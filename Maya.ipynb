{
 "cells": [
  {
   "cell_type": "code",
   "execution_count": null,
   "metadata": {},
   "outputs": [],
   "source": [
    "import requests\n",
    "import json\n",
    "import pandas as pd\n",
    "import pybomb as pb\n",
    "import pybomb.clients.base_client as baseclient\n",
    "import pybomb.clients.games_client as gamesclient\n",
    "import pybomb.clients.game_client as gc\n",
    "import numpy as np"
   ]
  },
  {
   "cell_type": "markdown",
   "metadata": {},
   "source": [
    "1) get user input\n",
    "2) search for the game\n",
    "3) get the game id with games_client\n",
    "4) send the game id to game_client to get the similar_games\n",
    "5) recommend those games\n",
    "\n",
    "rating, id, platform, genre\n",
    "\n",
    "With Gameclient, you can get genre given id, similar_games\n",
    "with gamesclient, get id"
   ]
  },
  {
   "cell_type": "code",
   "execution_count": 2,
   "metadata": {},
   "outputs": [
    {
     "name": "stdout",
     "output_type": "stream",
     "text": [
      "['Titanfall', 'Halo 5: Guardians']\n",
      "[42860, 42905]\n"
     ]
    }
   ],
   "source": [
    "key = '64ce54b0ab6eb483b1964ae7979124f96aa791e5' ##Make this an input or encrypt it\n",
    "game_client = pb.GameClient(key, default_format = 'json')\n",
    "game_id = 48754\n",
    "\n",
    "response = game_client.fetch(game_id)\n",
    "name_list = []\n",
    "id_list= []\n",
    "for i in response.results['similar_games']:\n",
    "    name_list.append(i['name'])\n",
    "    id_list.append(i['id'])\n",
    "print(name_list)\n",
    "print(id_list)"
   ]
  },
  {
   "cell_type": "code",
   "execution_count": 7,
   "metadata": {},
   "outputs": [
    {
     "name": "stdout",
     "output_type": "stream",
     "text": [
      "Enter the name of a game you'd like to search for:call of duty\n"
     ]
    },
    {
     "data": {
      "text/plain": [
       "[1629,\n",
       " 2133,\n",
       " 2347,\n",
       " 3232,\n",
       " 7524,\n",
       " 7827,\n",
       " 10475,\n",
       " 12633,\n",
       " 16711,\n",
       " 20777,\n",
       " 24485,\n",
       " 25636,\n",
       " 25645,\n",
       " 26423,\n",
       " 27664,\n",
       " 29221,\n",
       " 29241,\n",
       " 30178,\n",
       " 35129,\n",
       " 38039,\n",
       " 38375,\n",
       " 38542,\n",
       " 38877,\n",
       " 41520,\n",
       " 45359,\n",
       " 48315,\n",
       " 48754,\n",
       " 50945,\n",
       " 52633,\n",
       " 56908,\n",
       " 59203,\n",
       " 66897]"
      ]
     },
     "execution_count": 7,
     "metadata": {},
     "output_type": "execute_result"
    }
   ],
   "source": [
    "def returnIds():\n",
    "\n",
    "    user_game = input(\"Enter the name of a game you'd like to search for:\")\n",
    "    key = '64ce54b0ab6eb483b1964ae7979124f96aa791e5' ##Make this an input or encrypt it\n",
    "    games_client = pb.GamesClient(key)\n",
    "    response = games_client.quick_search(name = user_game)\n",
    "    results = response.results\n",
    "    \n",
    "    name_list = []\n",
    "    id_list = []\n",
    "    \n",
    "    for i in results:\n",
    "        \n",
    "        name_list.append(i['aliases'])\n",
    "        id_list.append(i['id'])\n",
    "    \n",
    "    return(id_list)\n",
    "returnIds()"
   ]
  },
  {
   "cell_type": "code",
   "execution_count": 4,
   "metadata": {},
   "outputs": [],
   "source": [
    "def GetGenre(game_id):\n",
    "    print(\"This gets the genre of the user-inputted game.\")\n",
    "    key = '64ce54b0ab6eb483b1964ae7979124f96aa791e5' ##Make this an input or encrypt it\n",
    "    game_client = pb.GameClient(key, default_format = 'json')\n",
    "    response = game_client.fetch(game_id)\n",
    "    \n",
    "    genre_list = []\n",
    "    genre_list.append(response.results['genres'][0]['name'])"
   ]
  },
  {
   "cell_type": "code",
   "execution_count": 15,
   "metadata": {},
   "outputs": [
    {
     "name": "stdout",
     "output_type": "stream",
     "text": [
      "Enter the name of a game you'd like to search for:call of duty\n",
      "['Medal of Honor: Airborne', 'Medal of Honor: Frontline', 'Return to Castle Wolfenstein: Operation Resurrection', 'Vietcong: Purple Haze', 'IL-2 Sturmovik: 1946', 'Battlefield 1942', 'Return to Castle Wolfenstein', 'Return to Castle Wolfenstein: Tides of War', 'Battlefield Heroes', 'Medal of Honor: Heroes 2', 'World War II Combat: Iwo Jima', 'Furious 4', 'Red Orchestra 2: Heroes of Stalingrad', '7554', 'Medal of Honor: Allied Assault', 'Front Line', 'Battalion 1944']\n",
      "['Battlefield: Bad Company', 'Killzone', 'SOCOM: U.S. Navy SEALs - Confrontation', 'Resistance 2', 'Soldier Front', 'Combat Arms', 'Code of Honor 2: Conspiracy Island', 'Code of Honor: The French Foreign Legion', 'Black', 'SAS: Secure Tomorrow', 'Vietcong: Purple Haze', 'The Punisher: No Mercy', 'Crossfire', 'MAG', \"Greg Hastings' Tournament Paintball MAX'D\", 'Alliance of Valiant Arms', 'Marines: Modern Urban Combat', 'Battle Territory: Battery', 'Blacklight: Tango Down', 'Medal of Honor', 'Far Cry 2', 'Sniper: Ghost Warrior', 'Duty Calls: The Calm Before the Storm', 'Battlefield 3', \"Tom Clancy's Ghost Recon Phantoms\", 'Resistance 3', 'Battlefield 2: Armored Fury', 'Battlefield 2: Euro Force', 'Secret Service', 'Counter-Strike: Global Offensive', 'Blacklight Retribution', 'Ravaged', 'Persian Gulf Soldiers', 'Killzone Trilogy', 'Firestorm', 'Glorious Mission', 'Battlefield: Bad Company 2', 'Titanfall 2']\n",
      "['Red Orchestra: Ostfront 41-45', 'Day of Defeat: Source', 'Turning Point: Fall of Liberty', 'Day of Defeat', 'Counter-Strike: Source', 'Brothers in Arms DS', 'Medal of Honor: Airborne', 'Medal of Honor: Heroes', 'The History Channel: Battle for the Pacific', 'Half-Life 2', 'Killzone', 'Vietcong', 'Vietcong 2', 'Brothers in Arms: Road to Hill 30', 'Brothers in Arms: Double Time', \"Brothers in Arms: Hell's Highway\", 'Battlefield: Bad Company', 'Battlefield 1942', 'Wolfenstein 3D', 'Return to Castle Wolfenstein: Operation Resurrection', 'Shadowrun', 'Medal of Honor: Rising Sun', 'Medal of Honor: Frontline', \"Tom Clancy's Rainbow Six 3: Black Arrow\", 'Unreal Tournament 3', 'Perfect Dark', 'Half-Life: Blue Shift', 'Commandos: Strike Force', 'The Outfit', 'Battlefield Heroes', 'World War Zero: Iron Storm', 'Medal of Honor: Underground', 'Vietcong: Purple Haze', 'IL-2 Sturmovik: 1946', \"Greg Hastings' Tournament Paintball MAX'D\", 'Marines: Modern Urban Combat', 'World War II Combat: Iwo Jima', 'Red Orchestra 2: Heroes of Stalingrad', '7554', 'Medal of Honor: Allied Assault', 'Battalion 1944']\n",
      "['Medal of Honor: Airborne', 'Medal of Honor', 'Medal of Honor: Frontline', 'Medal of Honor: Heroes', 'Medal of Honor: Vanguard', 'Medal of Honor: Underground', 'Legendary', 'Medal of Honor: European Assault', 'Medal of Honor: Rising Sun', 'Medal of Honor: Heroes 2']\n",
      "['Medal of Honor: Heroes 2', 'Red Orchestra: Ostfront 41-45', 'Turning Point: Fall of Liberty', 'Day of Defeat', 'Resistance 2', 'Brothers in Arms DS', 'Medal of Honor: Airborne', 'Medal of Honor: Rising Sun', 'Medal of Honor: Frontline', \"Tom Clancy's Rainbow Six 3: Black Arrow\", 'Planetside: Core Combat', 'Medal of Honor: Underground', \"Brothers in Arms: Hell's Highway\", 'Vietcong: Purple Haze', 'Battlefield 2: Modern Combat', 'Battlefield Heroes', 'The History Channel: Battle for the Pacific', 'Marines: Modern Urban Combat', 'World War II Combat: Iwo Jima']\n",
      "['Coded Arms', 'Ghost in the Shell: Stand Alone Complex', 'Vietcong: Purple Haze', 'Star Wars Battlefront: Renegade Squadron', 'Brothers in Arms DS', 'Medal of Honor: Heroes', 'Medal of Honor: Heroes 2', 'Killzone Mercenary']\n",
      "['Warhammer 40,000: Chaos Gate', 'Soldiers: Heroes of World War II', 'Desperados: Wanted Dead or Alive', 'Helldorado', 'Soldiers at War', 'Korea: Forgotten Conflict', 'Close Combat: Gateway to Caen']\n",
      "['Day of Defeat: Source', 'Day of Defeat', 'Medal of Honor', 'Medal of Honor: Airborne', 'Commandos: Strike Force', 'Medal of Honor: Frontline', 'Medal of Honor: Rising Sun', \"Brothers in Arms: Hell's Highway\", 'Brothers in Arms: Double Time']\n",
      "['Medal of Honor: Rising Sun', 'Medal of Honor: Frontline', 'Medal of Honor: European Assault', '007: Nightfire', 'Medal of Honor: Underground', \"Brothers in Arms: Hell's Highway\", 'Brothers in Arms: Road to Hill 30', 'Brothers in Arms: Earned in Blood']\n",
      "['Day of Defeat: Source', 'Battlefield 1942', 'Battlefield: Bad Company', 'Medal of Honor: Airborne', 'The History Channel: Battle for the Pacific', \"Brothers in Arms: Hell's Highway\", 'Medal of Honor: Pacific Assault', 'Medal of Honor: Underground', 'Medal of Honor: Heroes', 'Medal of Honor: Heroes 2', 'Killzone', 'Brothers in Arms: Hour of Heroes', 'Wolfenstein', 'Vietcong: Purple Haze', 'Medal of Honor: Frontline', 'Brothers in Arms: Road to Hill 30', 'Brothers in Arms: Earned in Blood', 'Zombie Shooter', 'The Punisher: No Mercy', 'Nerf N-Strike', 'IL-2 Sturmovik: 1946', 'Battlefield Heroes', 'Shellshock 2: Blood Trails', 'Resident Evil: The Umbrella Chronicles', \"Greg Hastings' Tournament Paintball MAX'D\", 'Marines: Modern Urban Combat', 'World War II Combat: Iwo Jima', 'Day of Defeat', 'Dead Block', 'The Haunted: Hells Reach', 'Front Line']\n",
      "['Medal of Honor: Pacific Assault', 'Medal of Honor: Rising Sun']\n",
      "['Moon', 'Code of Honor 3: Desperate Measures']\n",
      "['Ashen', \"Tom Clancy's Ghost Recon: Jungle Storm\"]\n",
      "['Battlefield Vietnam', 'Platoon', 'Vietcong', 'Vietcong 2', \"Tom Clancy's Ghost Recon: Future Soldier\", 'Medal of Honor', 'Blacklight: Tango Down', 'Counter-Strike: Source', 'Half-Life: Counter-Strike', 'Counter-Strike: Condition Zero', 'Singularity', \"Tom Clancy's Rainbow Six: Vegas 2\", \"Tom Clancy's Rainbow Six\", 'Haze', \"Tom Clancy's Rainbow Six 3: Raven Shield\", \"Tom Clancy's Rainbow Six: Rogue Spear\", \"Tom Clancy's Rainbow Six: Rogue Spear - Black Thorn\", \"Tom Clancy's Rainbow Six: Lockdown\", 'MAG', 'Quantum of Solace', 'Sniper: Ghost Warrior', 'Battlefield: Bad Company', \"Tom Clancy's Ghost Recon: Island Thunder\", \"Tom Clancy's Ghost Recon: Desert Siege\", \"Tom Clancy's Ghost Recon 2 - 2007: First Contact\", \"Tom Clancy's Ghost Recon: Predator\", \"Tom Clancy's Ghost Recon: Jungle Storm\", \"Tom Clancy's Ghost Recon 2 - 2011: Final Assault\", \"Tom Clancy's Ghost Recon 2: Summit Strike\", 'SOCOM 4: U.S. Navy SEALs', 'SOCOM: U.S. Navy SEALs', 'SOCOM: U.S. Navy SEALs - Confrontation', 'SOCOM II: U.S. Navy SEALs', 'SOCOM 3: U.S. Navy SEALs', 'SOCOM: U.S. Navy SEALs - Tactical Strike', 'SOCOM: U.S. Navy SEALs - Fireteam Bravo', 'SOCOM: U.S. Navy SEALs - Fireteam Bravo 2', 'SOCOM: U.S. Navy SEALs - Fireteam Bravo 3', 'Killzone', 'Shellshock 2: Blood Trails', 'Tunnel Rats', 'Project I.G.I.-2: Covert Strike', 'NAM', 'Ikki Online', \"Tom Clancy's Ghost Recon Phantoms\", 'Dead Block', 'Blacklight Retribution', 'The Haunted: Hells Reach', 'Killzone Trilogy', '007 Legends', 'Vietnam: Black Ops']\n",
      "['Brothers in Arms DS']\n",
      "['Killzone', 'Battlefield: Bad Company', 'Battlefield 2: Modern Combat', 'The Conduit', 'Red Steel', 'Conduit 2']\n",
      "['Resident Evil: The Umbrella Chronicles', 'Painkiller', 'Resident Evil: Outbreak - File #2', 'Resident Evil: Outbreak', 'Sniper Elite: Nazi Zombie Army 2', 'Sniper Elite: Nazi Zombie Army', 'Payday 2', 'Payday: The Heist', 'Contagion', 'Killing Floor 2', 'Killing Floor', 'No More Room In Hell', 'Call of Duty: Black Ops Zombies', 'Left 4 Dead 2', 'Left 4 Dead', 'Zombie Army Trilogy', 'Zombies Overloaded']\n",
      "tears\n",
      "['Battlefield 3', 'Homefront', 'Medal of Honor', 'Resistance 3', 'Counter-Strike: Global Offensive', 'Medal of Honor: Warfighter', 'Ravaged', 'Persian Gulf Soldiers', 'Battlefield 4', 'Modern Warfare 2', 'Duty Calls: The Calm Before the Storm']\n",
      "['Battlefield 2142', 'Frontlines: Fuel of War', 'Killzone Trilogy', '007 Legends', 'Far Cry 3: Blood Dragon', 'Titanfall', 'Battlefield 2: Modern Combat']\n",
      "['Call of Duty: World at War: Zombies', 'Left 4 Dead 2', 'Dead Purge: Outbreak', 'Zombies Overloaded']\n",
      "['Medal of Honor: Heroes', 'Resistance: Burning Skies', 'Unit 13']\n",
      "['Renaissance Heroes', 'Battlefield Online', 'Halo Online']\n",
      "['Battlefield 4', 'Medal of Honor: Warfighter']\n",
      "['Halo 5: Guardians', 'Battlefield Hardline']\n",
      "['Star Wars Commander', 'Age of Empires: Castle Siege', 'Battle Ages', 'Battle Islands']\n"
     ]
    },
    {
     "name": "stdout",
     "output_type": "stream",
     "text": [
      "['Titanfall', 'Halo 5: Guardians']\n",
      "tears\n",
      "tears\n",
      "tears\n",
      "['Battalion 1944']\n",
      "['Counter-Strike: Global Offensive', 'Apex Legends']\n",
      "66897\n"
     ]
    }
   ],
   "source": [
    "i = 0\n",
    "\n",
    "def returnIds():\n",
    "\n",
    "    user_game = input(\"Enter the name of a game you'd like to search for:\")\n",
    "    key = '64ce54b0ab6eb483b1964ae7979124f96aa791e5' ##Make this an input or encrypt it\n",
    "    games_client = pb.GamesClient(key)\n",
    "    response = games_client.quick_search(name = user_game)\n",
    "    results = response.results\n",
    "    \n",
    "    name_list = []\n",
    "    id_list = []\n",
    "    \n",
    "    for i in results:\n",
    "        \n",
    "        name_list.append(i['aliases'])\n",
    "        id_list.append(i['id'])\n",
    "    \n",
    "    return(id_list)\n",
    "\n",
    "ids = returnIds()\n",
    "\n",
    "def GetSimilarGames(game_id):\n",
    "    \n",
    "    try:\n",
    "        key = '64ce54b0ab6eb483b1964ae7979124f96aa791e5'\n",
    "        game_client = pb.GameClient(key, default_format = 'json')\n",
    "        response = game_client.fetch(game_id)\n",
    "        name_list_sim = []\n",
    "        id_list_sim= []\n",
    "\n",
    "        for i in response.results['similar_games']:\n",
    "            name_list_sim.append(i['name'])\n",
    "            id_list_sim.append(i['id'])\n",
    "        print(name_list_sim)\n",
    "        #print(id_list_sim)\n",
    "    except TypeError:\n",
    "        print(\"No recommended games for this ID\")\n",
    "        \n",
    "\n",
    "for i in ids:\n",
    "    #GetGenre(i)\n",
    "    GetSimilarGames(i)\n",
    "    #pd.Series(i)\n",
    "\n",
    "print(i)\n",
    "    #17 outputs\n",
    "    \n"
   ]
  },
  {
   "cell_type": "code",
   "execution_count": null,
   "metadata": {},
   "outputs": [],
   "source": [
    "def GetSimilarGames(game_id):\n",
    "    key = '64ce54b0ab6eb483b1964ae7979124f96aa791e5'\n",
    "    game_client = pb.GameClient(key, default_format = 'json')\n",
    "    response = game_client.fetch(game_id)\n",
    "    name_list_sim = []\n",
    "    id_list_sim= []\n",
    "    for i in response.results['similar_games']:\n",
    "        name_list_sim.append(i['name'])\n",
    "        id_list_sim.append(i['id'])\n",
    "    print(name_list_sim)\n",
    "    print(id_list_sim)\n",
    "\n",
    "id = 29903\n",
    "GetSimilarGames(id)"
   ]
  },
  {
   "cell_type": "code",
   "execution_count": null,
   "metadata": {},
   "outputs": [],
   "source": []
  }
 ],
 "metadata": {
  "kernelspec": {
   "display_name": "Python 3",
   "language": "python",
   "name": "python3"
  },
  "language_info": {
   "codemirror_mode": {
    "name": "ipython",
    "version": 3
   },
   "file_extension": ".py",
   "mimetype": "text/x-python",
   "name": "python",
   "nbconvert_exporter": "python",
   "pygments_lexer": "ipython3",
   "version": "3.6.6"
  }
 },
 "nbformat": 4,
 "nbformat_minor": 2
}
