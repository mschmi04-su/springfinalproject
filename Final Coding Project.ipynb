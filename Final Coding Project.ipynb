{
 "cells": [
  {
   "cell_type": "code",
   "execution_count": 1,
   "metadata": {},
   "outputs": [],
   "source": [
    "#Import statements\n",
    "import requests\n",
    "import json\n",
    "import pandas as pd\n",
    "import pybomb as pb\n",
    "import pybomb.clients.base_client as baseclient\n",
    "import pybomb.clients.games_client as gamesclient\n",
    "import pybomb.clients.game_client as gc\n",
    "import numpy as np"
   ]
  },
  {
   "cell_type": "markdown",
   "metadata": {},
   "source": [
    "1) get user input\n",
    "2) search for the game\n",
    "3) get the game id with games_client\n",
    "4) send the game id to game_client to get the similar_games\n",
    "5) recommend those games\n",
    "\n",
    "rating, id, platform, genre\n",
    "\n",
    "With Gameclient, you can get genre given id, similar_games\n",
    "with gamesclient, get id"
   ]
  },
  {
   "cell_type": "code",
   "execution_count": 34,
   "metadata": {},
   "outputs": [],
   "source": [
    "#Function Defitions:\n",
    "\n",
    "def returnIds():\n",
    "\n",
    "    #The API searches its database for every match to the api call\n",
    "    #When the user enters the name of a game, it returns info about multiple games\n",
    "    #This function returns just the id of the first game that matches and stores it in variable ids.\n",
    "    \n",
    "    user_game = input(\"Enter the name of a game you'd like to search for:\")\n",
    "    key = '64ce54b0ab6eb483b1964ae7979124f96aa791e5' ##Make this an input or encrypt it\n",
    "    games_client = pb.GamesClient(key)\n",
    "    \n",
    "    try:\n",
    "        response = games_client.quick_search(name = user_game)\n",
    "        results = response.results\n",
    "\n",
    "        name_list = []\n",
    "        id_list = []\n",
    "\n",
    "        for i in results:\n",
    "\n",
    "            name_list.append(i['aliases'])\n",
    "            id_list.append(i['id'])\n",
    "        \n",
    "        return(id_list[0])\n",
    "        \n",
    "    except (pb.exceptions.BadRequestException, IndexError, requests.exceptions.HTTPError, TypeError) as e:\n",
    "        print('game not found')\n",
    "\n",
    "\n",
    "\n",
    "def GetSimilarGames(game_id):\n",
    "    \n",
    "    #Gets a list of the names and urls of each recommended game\n",
    "    key = '64ce54b0ab6eb483b1964ae7979124f96aa791e5'\n",
    "    game_client = pb.GameClient(key, default_format = 'json')\n",
    "    response = game_client.fetch(game_id)\n",
    "\n",
    "    name_list_sim = []\n",
    "    url_list_sim = []\n",
    "    genre_list = []\n",
    "    \n",
    "    try:\n",
    "        #for each id, append the names of reccommended games to a list.\n",
    "        for i in response.results['similar_games']:\n",
    "\n",
    "            name_list_sim.append(i['name'])\n",
    "            url_list_sim.append(i['site_detail_url'])\n",
    "\n",
    "        #return each list of reccommended games\n",
    "        return(name_list_sim, url_list_sim, genre_list)\n",
    "    except (pb.exceptions.BadRequestException, IndexError, requests.exceptions.HTTPError) as e:\n",
    "        pass\n",
    "def compileDF(recinfo):\n",
    "    games = pd.Series(recinfo[0], name = 'Games')\n",
    "    urls = pd.Series(recinfo[1], name = 'URLs')\n",
    "    \n",
    "    df = pd.DataFrame({'Games': games, 'URLs': urls})\n",
    "    \n",
    "    return(df)\n"
   ]
  },
  {
   "cell_type": "code",
   "execution_count": 4,
   "metadata": {
    "scrolled": true
   },
   "outputs": [
    {
     "data": {
      "text/plain": [
       "[{'api_detail_url': 'https://www.giantbomb.com/api/game/3030-12231/',\n",
       "  'id': 12231,\n",
       "  'name': 'Gears of War',\n",
       "  'site_detail_url': 'https://www.giantbomb.com/gears-of-war/3030-12231/'},\n",
       " {'api_detail_url': 'https://www.giantbomb.com/api/game/3030-20662/',\n",
       "  'id': 20662,\n",
       "  'name': 'Gears of War 2',\n",
       "  'site_detail_url': 'https://www.giantbomb.com/gears-of-war-2/3030-20662/'},\n",
       " {'api_detail_url': 'https://www.giantbomb.com/api/game/3030-30615/',\n",
       "  'id': 30615,\n",
       "  'name': 'Gears of War 3',\n",
       "  'site_detail_url': 'https://www.giantbomb.com/gears-of-war-3/3030-30615/'},\n",
       " {'api_detail_url': 'https://www.giantbomb.com/api/game/3030-21590/',\n",
       "  'id': 21590,\n",
       "  'name': 'Mass Effect 2',\n",
       "  'site_detail_url': 'https://www.giantbomb.com/mass-effect-2/3030-21590/'},\n",
       " {'api_detail_url': 'https://www.giantbomb.com/api/game/3030-16637/',\n",
       "  'id': 16637,\n",
       "  'name': 'P.N.03',\n",
       "  'site_detail_url': 'https://www.giantbomb.com/pn03/3030-16637/'},\n",
       " {'api_detail_url': 'https://www.giantbomb.com/api/game/3030-20464/',\n",
       "  'id': 20464,\n",
       "  'name': \"Tom Clancy's Splinter Cell: Conviction\",\n",
       "  'site_detail_url': 'https://www.giantbomb.com/tom-clancys-splinter-cell-conviction/3030-20464/'},\n",
       " {'api_detail_url': 'https://www.giantbomb.com/api/game/3030-21984/',\n",
       "  'id': 21984,\n",
       "  'name': 'WET',\n",
       "  'site_detail_url': 'https://www.giantbomb.com/wet/3030-21984/'},\n",
       " {'api_detail_url': 'https://www.giantbomb.com/api/game/3030-2414/',\n",
       "  'id': 2414,\n",
       "  'name': 'Max Payne',\n",
       "  'site_detail_url': 'https://www.giantbomb.com/max-payne/3030-2414/'},\n",
       " {'api_detail_url': 'https://www.giantbomb.com/api/game/3030-23398/',\n",
       "  'id': 23398,\n",
       "  'name': 'Max Payne 3',\n",
       "  'site_detail_url': 'https://www.giantbomb.com/max-payne-3/3030-23398/'},\n",
       " {'api_detail_url': 'https://www.giantbomb.com/api/game/3030-24041/',\n",
       "  'id': 24041,\n",
       "  'name': 'Quantum Theory',\n",
       "  'site_detail_url': 'https://www.giantbomb.com/quantum-theory/3030-24041/'},\n",
       " {'api_detail_url': 'https://www.giantbomb.com/api/game/3030-33304/',\n",
       "  'id': 33304,\n",
       "  'name': 'Binary Domain',\n",
       "  'site_detail_url': 'https://www.giantbomb.com/binary-domain/3030-33304/'},\n",
       " {'api_detail_url': 'https://www.giantbomb.com/api/game/3030-32045/',\n",
       "  'id': 32045,\n",
       "  'name': 'Deep Black',\n",
       "  'site_detail_url': 'https://www.giantbomb.com/deep-black/3030-32045/'},\n",
       " {'api_detail_url': 'https://www.giantbomb.com/api/game/3030-31777/',\n",
       "  'id': 31777,\n",
       "  'name': 'Mindjack',\n",
       "  'site_detail_url': 'https://www.giantbomb.com/mindjack/3030-31777/'},\n",
       " {'api_detail_url': 'https://www.giantbomb.com/api/game/3030-42860/',\n",
       "  'id': 42860,\n",
       "  'name': 'Titanfall',\n",
       "  'site_detail_url': 'https://www.giantbomb.com/titanfall/3030-42860/'},\n",
       " {'api_detail_url': 'https://www.giantbomb.com/api/game/3030-40769/',\n",
       "  'id': 40769,\n",
       "  'name': 'Gunslinger Stratos',\n",
       "  'site_detail_url': 'https://www.giantbomb.com/gunslinger-stratos/3030-40769/'},\n",
       " {'api_detail_url': 'https://www.giantbomb.com/api/game/3030-38364/',\n",
       "  'id': 38364,\n",
       "  'name': 'E.X. Troopers',\n",
       "  'site_detail_url': 'https://www.giantbomb.com/ex-troopers/3030-38364/'},\n",
       " {'api_detail_url': 'https://www.giantbomb.com/api/game/3030-4518/',\n",
       "  'id': 4518,\n",
       "  'name': 'Mega Man 3',\n",
       "  'site_detail_url': 'https://www.giantbomb.com/mega-man-3/3030-4518/'},\n",
       " {'api_detail_url': 'https://www.giantbomb.com/api/game/3030-30431/',\n",
       "  'id': 30431,\n",
       "  'name': 'Killzone 3',\n",
       "  'site_detail_url': 'https://www.giantbomb.com/killzone-3/3030-30431/'},\n",
       " {'api_detail_url': 'https://www.giantbomb.com/api/game/3030-30088/',\n",
       "  'id': 30088,\n",
       "  'name': 'Bulletstorm',\n",
       "  'site_detail_url': 'https://www.giantbomb.com/bulletstorm/3030-30088/'},\n",
       " {'api_detail_url': 'https://www.giantbomb.com/api/game/3030-45059/',\n",
       "  'id': 45059,\n",
       "  'name': 'Gunslinger Stratos 2',\n",
       "  'site_detail_url': 'https://www.giantbomb.com/gunslinger-stratos-2/3030-45059/'},\n",
       " {'api_detail_url': 'https://www.giantbomb.com/api/game/3030-45909/',\n",
       "  'id': 45909,\n",
       "  'name': 'Sev Zero',\n",
       "  'site_detail_url': 'https://www.giantbomb.com/sev-zero/3030-45909/'},\n",
       " {'api_detail_url': 'https://www.giantbomb.com/api/game/3030-48855/',\n",
       "  'id': 48855,\n",
       "  'name': 'Gunslinger Stratos Reloaded',\n",
       "  'site_detail_url': 'https://www.giantbomb.com/gunslinger-stratos-reloaded/3030-48855/'},\n",
       " {'api_detail_url': 'https://www.giantbomb.com/api/game/3030-46072/',\n",
       "  'id': 46072,\n",
       "  'name': 'Rise of Incarnates',\n",
       "  'site_detail_url': 'https://www.giantbomb.com/rise-of-incarnates/3030-46072/'},\n",
       " {'api_detail_url': 'https://www.giantbomb.com/api/game/3030-31672/',\n",
       "  'id': 31672,\n",
       "  'name': \"Devil's Third\",\n",
       "  'site_detail_url': 'https://www.giantbomb.com/devils-third/3030-31672/'},\n",
       " {'api_detail_url': 'https://www.giantbomb.com/api/game/3030-32348/',\n",
       "  'id': 32348,\n",
       "  'name': 'Gun Loco',\n",
       "  'site_detail_url': 'https://www.giantbomb.com/gun-loco/3030-32348/'},\n",
       " {'api_detail_url': 'https://www.giantbomb.com/api/game/3030-48190/',\n",
       "  'id': 48190,\n",
       "  'name': 'Overwatch',\n",
       "  'site_detail_url': 'https://www.giantbomb.com/overwatch/3030-48190/'}]"
      ]
     },
     "execution_count": 4,
     "metadata": {},
     "output_type": "execute_result"
    }
   ],
   "source": [
    "#Testing Functions:\n",
    "\n",
    "def GetSimilarGames(game_id):\n",
    "    key = '64ce54b0ab6eb483b1964ae7979124f96aa791e5'\n",
    "    game_client = pb.GameClient(key, default_format = 'json')\n",
    "    response = game_client.fetch(game_id)\n",
    "    name_list_sim = []\n",
    "    id_list_sim= []\n",
    "    \n",
    "    #Gets the similar games out of the response\n",
    "    return(response.results['similar_games'])\n",
    "\n",
    "#At attempt at iterating through each id that's returned by the api, to get multiple databases.\n",
    "#This didn't work out, so we went with just id[0].\n",
    "\n",
    "    #for i in response.results['similar_games']:\n",
    "        #name_list_sim.append(i['name'])\n",
    "        #print(i)\n",
    "        #id_list_sim.append(i['id'])\n",
    "    #print(name_list_sim)\n",
    "    #print(id_list_sim)\n",
    "\n",
    "id = 29903\n",
    "games= GetSimilarGames(id)\n",
    "games"
   ]
  },
  {
   "cell_type": "code",
   "execution_count": 5,
   "metadata": {},
   "outputs": [
    {
     "data": {
      "text/plain": [
       "['First-Person Shooter']"
      ]
     },
     "execution_count": 5,
     "metadata": {},
     "output_type": "execute_result"
    }
   ],
   "source": [
    "#Function Testing\n",
    "\n",
    "def GetGenre(game_id):##This gets the genre of the user-inputted game.\n",
    "    key = '64ce54b0ab6eb483b1964ae7979124f96aa791e5'\n",
    "    game_client = pb.GameClient(key, default_format = 'json')\n",
    "    response = game_client.fetch(game_id)\n",
    "    \n",
    "    genre_list = []\n",
    "    genre_list.append(response.results['genres'][0]['name'])\n",
    "    return(genre_list)\n",
    "    \n",
    "GetGenre(48754)"
   ]
  },
  {
   "cell_type": "code",
   "execution_count": 6,
   "metadata": {
    "scrolled": true
   },
   "outputs": [
    {
     "name": "stdout",
     "output_type": "stream",
     "text": [
      "Enter the name of a game you'd like to search for:Call of Duty 2\n"
     ]
    },
    {
     "data": {
      "text/plain": [
       "[2347, 16711]"
      ]
     },
     "execution_count": 6,
     "metadata": {},
     "output_type": "execute_result"
    }
   ],
   "source": [
    "\n",
    "#The API does a search based on the user input, returning a ton of information about every game that matches.\n",
    "#This method parses through the ids, and appends them to a list.\n",
    "#In our main program, we take just the id of the first game that matches\n",
    "\n",
    "def returnIds():\n",
    "\n",
    "    user_game = input(\"Enter the name of a game you'd like to search for:\")\n",
    "    key = '64ce54b0ab6eb483b1964ae7979124f96aa791e5' ##Make this an input or encrypt it\n",
    "    games_client = pb.GamesClient(key)\n",
    "    response = games_client.quick_search(name = user_game)\n",
    "    results = response.results\n",
    "    \n",
    "    name_list = []\n",
    "    id_list = []\n",
    "    \n",
    "    for i in results:\n",
    "        \n",
    "        name_list.append(i['aliases'])\n",
    "        id_list.append(i['id'])\n",
    "    \n",
    "    return(id_list)\n",
    "returnIds()"
   ]
  },
  {
   "cell_type": "code",
   "execution_count": 51,
   "metadata": {},
   "outputs": [
    {
     "name": "stdout",
     "output_type": "stream",
     "text": [
      "Enter the name of a game you'd like to search for:jafiowfajwfeefao ffjifoaewfjiaweof jiofawe\n",
      "game not found\n",
      "No really, game's not found. This is just the reccommendations for the last game:\n"
     ]
    },
    {
     "data": {
      "text/html": [
       "<div>\n",
       "<style scoped>\n",
       "    .dataframe tbody tr th:only-of-type {\n",
       "        vertical-align: middle;\n",
       "    }\n",
       "\n",
       "    .dataframe tbody tr th {\n",
       "        vertical-align: top;\n",
       "    }\n",
       "\n",
       "    .dataframe thead th {\n",
       "        text-align: right;\n",
       "    }\n",
       "</style>\n",
       "<table border=\"1\" class=\"dataframe\">\n",
       "  <thead>\n",
       "    <tr style=\"text-align: right;\">\n",
       "      <th></th>\n",
       "      <th>Games</th>\n",
       "      <th>URLs</th>\n",
       "    </tr>\n",
       "  </thead>\n",
       "  <tbody>\n",
       "    <tr>\n",
       "      <th>0</th>\n",
       "      <td>Destiny</td>\n",
       "      <td>https://www.giantbomb.com/destiny/3030-36067/</td>\n",
       "    </tr>\n",
       "    <tr>\n",
       "      <th>1</th>\n",
       "      <td>Resistance 3</td>\n",
       "      <td>https://www.giantbomb.com/resistance-3/3030-29...</td>\n",
       "    </tr>\n",
       "    <tr>\n",
       "      <th>2</th>\n",
       "      <td>Gunslinger Stratos</td>\n",
       "      <td>https://www.giantbomb.com/gunslinger-stratos/3...</td>\n",
       "    </tr>\n",
       "  </tbody>\n",
       "</table>\n",
       "</div>"
      ],
      "text/plain": [
       "                Games                                               URLs\n",
       "0             Destiny      https://www.giantbomb.com/destiny/3030-36067/\n",
       "1        Resistance 3  https://www.giantbomb.com/resistance-3/3030-29...\n",
       "2  Gunslinger Stratos  https://www.giantbomb.com/gunslinger-stratos/3..."
      ]
     },
     "execution_count": 51,
     "metadata": {},
     "output_type": "execute_result"
    }
   ],
   "source": [
    "#Main Program:\n",
    "ids = returnIds()\n",
    "try:\n",
    "    recinfo = GetSimilarGames(ids)\n",
    "    df = compileDF(recinfo)\n",
    "    -\n",
    "except(pb.exceptions.BadRequestException, IndexError, requests.exceptions.HTTPError, TypeError) as e:\n",
    "    print(\"No really, game's not found. This is just the reccommendations for the last game:\")\n",
    "    pass---\n",
    "df"
   ]
  },
  {
   "cell_type": "code",
   "execution_count": null,
   "metadata": {},
   "outputs": [],
   "source": []
  }
 ],
 "metadata": {
  "kernelspec": {
   "display_name": "Python 3",
   "language": "python",
   "name": "python3"
  },
  "language_info": {
   "codemirror_mode": {
    "name": "ipython",
    "version": 3
   },
   "file_extension": ".py",
   "mimetype": "text/x-python",
   "name": "python",
   "nbconvert_exporter": "python",
   "pygments_lexer": "ipython3",
   "version": "3.6.6"
  }
 },
 "nbformat": 4,
 "nbformat_minor": 2
}
