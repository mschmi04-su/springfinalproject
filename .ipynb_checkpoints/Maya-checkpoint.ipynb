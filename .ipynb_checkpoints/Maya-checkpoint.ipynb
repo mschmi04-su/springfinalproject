{
 "cells": [
  {
   "cell_type": "code",
   "execution_count": 1,
   "metadata": {},
   "outputs": [],
   "source": [
    "import requests\n",
    "import json\n",
    "import pandas as pd\n",
    "import pybomb as pb\n",
    "import pybomb.clients.base_client as baseclient\n",
    "import pybomb.clients.games_client as gamesclient\n",
    "import pybomb.clients.game_client as gc\n",
    "import numpy as np"
   ]
  },
  {
   "cell_type": "markdown",
   "metadata": {},
   "source": [
    "1) get user input\n",
    "2) search for the game\n",
    "3) get the game id with games_client\n",
    "4) send the game id to game_client to get the similar_games\n",
    "5) recommend those games\n",
    "\n",
    "rating, id, platform, genre\n",
    "\n",
    "With Gameclient, you can get genre given id, similar_games\n",
    "with gamesclient, get id"
   ]
  },
  {
   "cell_type": "code",
   "execution_count": 2,
   "metadata": {},
   "outputs": [
    {
     "name": "stdout",
     "output_type": "stream",
     "text": [
      "['Titanfall', 'Halo 5: Guardians']\n",
      "[42860, 42905]\n"
     ]
    }
   ],
   "source": [
    "key = '64ce54b0ab6eb483b1964ae7979124f96aa791e5' ##Make this an input or encrypt it\n",
    "game_client = pb.GameClient(key, default_format = 'json')\n",
    "game_id = 48754\n",
    "\n",
    "response = game_client.fetch(game_id)\n",
    "name_list = []\n",
    "id_list= []\n",
    "for i in response.results['similar_games']:\n",
    "    name_list.append(i['name'])\n",
    "    id_list.append(i['id'])\n",
    "print(name_list)\n",
    "print(id_list)"
   ]
  },
  {
   "cell_type": "code",
   "execution_count": 7,
   "metadata": {},
   "outputs": [
    {
     "name": "stdout",
     "output_type": "stream",
     "text": [
      "Enter the name of a game you'd like to search for:halo\n"
     ]
    },
    {
     "data": {
      "text/plain": [
       "[2600,\n",
       " 3124,\n",
       " 7110,\n",
       " 9993,\n",
       " 20521,\n",
       " 23233,\n",
       " 24035,\n",
       " 26786,\n",
       " 30674,\n",
       " 31132,\n",
       " 32258,\n",
       " 35533,\n",
       " 35984,\n",
       " 39729,\n",
       " 40324,\n",
       " 40588,\n",
       " 42843,\n",
       " 42905,\n",
       " 46552,\n",
       " 48056,\n",
       " 49250,\n",
       " 50510,\n",
       " 50948,\n",
       " 59360,\n",
       " 68766,\n",
       " 68906]"
      ]
     },
     "execution_count": 7,
     "metadata": {},
     "output_type": "execute_result"
    }
   ],
   "source": [
    "def returnIds():\n",
    "\n",
    "    user_game = input(\"Enter the name of a game you'd like to search for:\")\n",
    "    key = '64ce54b0ab6eb483b1964ae7979124f96aa791e5' ##Make this an input or encrypt it\n",
    "    games_client = pb.GamesClient(key)\n",
    "    response = games_client.quick_search(name = user_game)\n",
    "    results = response.results\n",
    "    \n",
    "    name_list = []\n",
    "    id_list = []\n",
    "    \n",
    "    for i in results:\n",
    "        \n",
    "        name_list.append(i['aliases'])\n",
    "        id_list.append(i['id'])\n",
    "    \n",
    "    return(id_list)\n",
    "returnIds()"
   ]
  },
  {
   "cell_type": "code",
   "execution_count": 8,
   "metadata": {},
   "outputs": [],
   "source": [
    "def GetGenre(game_id):\n",
    "    print(\"This gets the genre of the user-inputted game.\")\n",
    "    key = '64ce54b0ab6eb483b1964ae7979124f96aa791e5' ##Make this an input or encrypt it\n",
    "    game_client = pb.GameClient(key, default_format = 'json')\n",
    "    response = game_client.fetch(game_id)\n",
    "    \n",
    "    genre_list = []\n",
    "    genre_list.append(response.results['genres'][0]['name'])"
   ]
  },
  {
   "cell_type": "code",
   "execution_count": 14,
   "metadata": {
    "scrolled": true
   },
   "outputs": [
    {
     "name": "stdout",
     "output_type": "stream",
     "text": [
      "Enter the name of a game you'd like to search for:Megaman\n"
     ]
    },
    {
     "data": {
      "text/html": [
       "<div>\n",
       "<style scoped>\n",
       "    .dataframe tbody tr th:only-of-type {\n",
       "        vertical-align: middle;\n",
       "    }\n",
       "\n",
       "    .dataframe tbody tr th {\n",
       "        vertical-align: top;\n",
       "    }\n",
       "\n",
       "    .dataframe thead th {\n",
       "        text-align: right;\n",
       "    }\n",
       "</style>\n",
       "<table border=\"1\" class=\"dataframe\">\n",
       "  <thead>\n",
       "    <tr style=\"text-align: right;\">\n",
       "      <th></th>\n",
       "      <th>games</th>\n",
       "    </tr>\n",
       "  </thead>\n",
       "  <tbody>\n",
       "  </tbody>\n",
       "</table>\n",
       "</div>"
      ],
      "text/plain": [
       "Empty DataFrame\n",
       "Columns: [games]\n",
       "Index: []"
      ]
     },
     "execution_count": 14,
     "metadata": {},
     "output_type": "execute_result"
    }
   ],
   "source": [
    "i = 0\n",
    "\n",
    "def returnIds():\n",
    "\n",
    "    user_game = input(\"Enter the name of a game you'd like to search for:\")\n",
    "    key = '64ce54b0ab6eb483b1964ae7979124f96aa791e5' ##Make this an input or encrypt it\n",
    "    games_client = pb.GamesClient(key)\n",
    "    response = games_client.quick_search(name = user_game)\n",
    "    results = response.results\n",
    "    \n",
    "    name_list = []\n",
    "    id_list = []\n",
    "    \n",
    "    for i in results:\n",
    "        \n",
    "        name_list.append(i['aliases'])\n",
    "        id_list.append(i['id'])\n",
    "    \n",
    "    return(id_list)\n",
    "\n",
    "ids = returnIds()\n",
    "\n",
    "def GetSimilarGames(game_id):\n",
    "    \n",
    "    try:\n",
    "        key = '64ce54b0ab6eb483b1964ae7979124f96aa791e5'\n",
    "        game_client = pb.GameClient(key, default_format = 'json')\n",
    "        response = game_client.fetch(game_id)\n",
    "        name_list_sim = []\n",
    "        id_list_sim= []\n",
    "\n",
    "        for i in response.results['similar_games']:\n",
    "            name_list_sim.append(i['name'])\n",
    "            id_list_sim.append(i['id'])\n",
    "        #print(name_list_sim)\n",
    "        #print(id_list_sim)\n",
    "    except TypeError:\n",
    "        print(\"No recommended games for this ID\")\n",
    "        \n",
    "\n",
    "for i in ids:\n",
    "    #GetGenre(i)\n",
    "    games = GetSimilarGames(i)\n",
    "    gameseries = pd.Series(games, name = 'games')\n",
    "    df = pd.DataFrame({'games': gameseries} )\n",
    "    \n",
    "    #pd.Series(i)\n",
    "\n",
    "df    #17 outputs\n",
    "    \n"
   ]
  },
  {
   "cell_type": "code",
   "execution_count": 8,
   "metadata": {},
   "outputs": [
    {
     "name": "stdout",
     "output_type": "stream",
     "text": [
      "['Gears of War', 'Gears of War 2', 'Gears of War 3', 'Mass Effect 2', 'P.N.03', \"Tom Clancy's Splinter Cell: Conviction\", 'WET', 'Max Payne', 'Max Payne 3', 'Quantum Theory', 'Binary Domain', 'Deep Black', 'Mindjack', 'Titanfall', 'Gunslinger Stratos', 'E.X. Troopers', 'Mega Man 3', 'Killzone 3', 'Bulletstorm', 'Gunslinger Stratos 2', 'Sev Zero', 'Gunslinger Stratos Reloaded', 'Rise of Incarnates', \"Devil's Third\", 'Gun Loco', 'Overwatch']\n",
      "[12231, 20662, 30615, 21590, 16637, 20464, 21984, 2414, 23398, 24041, 33304, 32045, 31777, 42860, 40769, 38364, 4518, 30431, 30088, 45059, 45909, 48855, 46072, 31672, 32348, 48190]\n"
     ]
    }
   ],
   "source": [
    "def GetSimilarGames(game_id):\n",
    "    key = '64ce54b0ab6eb483b1964ae7979124f96aa791e5'\n",
    "    game_client = pb.GameClient(key, default_format = 'json')\n",
    "    response = game_client.fetch(game_id)\n",
    "    name_list_sim = []\n",
    "    id_list_sim= []\n",
    "    for i in response.results['similar_games']:\n",
    "        name_list_sim.append(i['name'])\n",
    "        id_list_sim.append(i['id'])\n",
    "    print(name_list_sim)\n",
    "    print(id_list_sim)\n",
    "\n",
    "id = 29903\n",
    "GetSimilarGames(id)"
   ]
  },
  {
   "cell_type": "code",
   "execution_count": null,
   "metadata": {},
   "outputs": [],
   "source": []
  }
 ],
 "metadata": {
  "kernelspec": {
   "display_name": "Python 3",
   "language": "python",
   "name": "python3"
  },
  "language_info": {
   "codemirror_mode": {
    "name": "ipython",
    "version": 3
   },
   "file_extension": ".py",
   "mimetype": "text/x-python",
   "name": "python",
   "nbconvert_exporter": "python",
   "pygments_lexer": "ipython3",
   "version": "3.6.6"
  }
 },
 "nbformat": 4,
 "nbformat_minor": 2
}
