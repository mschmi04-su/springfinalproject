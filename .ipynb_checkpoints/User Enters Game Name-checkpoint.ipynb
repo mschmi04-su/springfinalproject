{
 "cells": [
  {
   "cell_type": "code",
   "execution_count": 1,
   "metadata": {},
   "outputs": [],
   "source": [
    "import requests\n",
    "import json\n",
    "import pandas as pd\n",
    "import pybomb as pb\n",
    "import pybomb.clients.base_client as baseclient\n",
    "import pybomb.clients.games_client as gamesclient\n",
    "import pybomb.clients.game_client as gc\n",
    "import numpy as np"
   ]
  },
  {
   "cell_type": "markdown",
   "metadata": {},
   "source": [
    "1) get user input\n",
    "2) search for the game\n",
    "3) get the game id with games_client\n",
    "4) send the game id to game_client to get the similar_games\n",
    "5) recommend those games\n",
    "\n",
    "rating, id, platform, genre\n",
    "\n",
    "With Gameclient, you can get genre given id, similar_games\n",
    "with gamesclient, get id"
   ]
  },
  {
   "cell_type": "code",
   "execution_count": 8,
   "metadata": {},
   "outputs": [
    {
     "name": "stdout",
     "output_type": "stream",
     "text": [
      "Enter the name of a game you'd like to search for:call of duty\n"
     ]
    },
    {
     "data": {
      "text/plain": [
       "(['COD\\nCall of Duty Classic',\n",
       "  'COD4, COD4: MW, Modern Warfare\\n',\n",
       "  'COD2\\n',\n",
       "  'COD: Finest Hour  ',\n",
       "  'CoD3',\n",
       "  None,\n",
       "  None,\n",
       "  'CoD:UO',\n",
       "  None,\n",
       "  'CoD:WaW\\nWorld at War\\nCOD: WaW\\nCall of Duty 5\\nCoD5',\n",
       "  None,\n",
       "  None,\n",
       "  None,\n",
       "  'Call of Duty 7\\nCall of Duty Vietnam\\nCOD Black Ops\\nCODBO\\nBLOPS\\nCODBLOPS',\n",
       "  'Call of Duty: Modern Warfare: Mobilised',\n",
       "  'Call of Duty 4: Modern Warfare',\n",
       "  None,\n",
       "  None,\n",
       "  'Call of Duty 8\\nCOD8\\nCODMW3\\nMW3',\n",
       "  'Call of Duty: Black Ops 2\\r\\nBlack Ops II\\r\\nBLOPS 2\\r\\nBLOPS II\\r\\nCODBLOPS 2\\r\\nCODBLOPS II\\r\\nコール オブ デューティ ブラックオプスII',\n",
       "  None,\n",
       "  None,\n",
       "  None,\n",
       "  'COD Ghosts',\n",
       "  None,\n",
       "  None,\n",
       "  'Call of Duty: Black Ops 3\\r\\nCODBLOPS 3\\r\\nCODBLOPS III',\n",
       "  None,\n",
       "  'Call of Duty 13\\r\\nCall of Duty XIII\\r\\nCall of Duty: Infinite Warfare\\r\\nCall of Duty: Infinite Warfare Legacy Edition',\n",
       "  None,\n",
       "  'Call of Duty: WW2\\r\\n COD WWII\\r\\nCOD WW2\\r\\nCall of Duty 14',\n",
       "  'Call of Duty: Black Ops IIII\\nCall of Duty: Black Ops IV\\nCall of Duty 15'],\n",
       " [1629,\n",
       "  2133,\n",
       "  2347,\n",
       "  3232,\n",
       "  7524,\n",
       "  7827,\n",
       "  10475,\n",
       "  12633,\n",
       "  16711,\n",
       "  20777,\n",
       "  24485,\n",
       "  25636,\n",
       "  25645,\n",
       "  26423,\n",
       "  27664,\n",
       "  29221,\n",
       "  29241,\n",
       "  30178,\n",
       "  35129,\n",
       "  38039,\n",
       "  38375,\n",
       "  38542,\n",
       "  38877,\n",
       "  41520,\n",
       "  45359,\n",
       "  48315,\n",
       "  48754,\n",
       "  50945,\n",
       "  52633,\n",
       "  56908,\n",
       "  59203,\n",
       "  66897])"
      ]
     },
     "execution_count": 8,
     "metadata": {},
     "output_type": "execute_result"
    }
   ],
   "source": [
    "\n",
    "def returnNames():\n",
    "\n",
    "    user_game = input(\"Enter the name of a game you'd like to search for:\")\n",
    "    key = '64ce54b0ab6eb483b1964ae7979124f96aa791e5' ##Make this an input or encrypt it\n",
    "    games_client = pb.GamesClient(key)\n",
    "    response = games_client.quick_search(name = user_game)\n",
    "    results = response.results\n",
    "    \n",
    "    name_list = []\n",
    "    id_list = []\n",
    "    \n",
    "    for i in results:\n",
    "        \n",
    "        name_list.append(i['aliases'])\n",
    "        id_list.append(i['id'])\n",
    "    \n",
    "    return(name_list, id_list)\n",
    "\n",
    "returnNames()\n",
    "\n",
    "\n",
    "\n"
   ]
  },
  {
   "cell_type": "code",
   "execution_count": null,
   "metadata": {},
   "outputs": [],
   "source": []
  }
 ],
 "metadata": {
  "kernelspec": {
   "display_name": "Python 3",
   "language": "python",
   "name": "python3"
  },
  "language_info": {
   "codemirror_mode": {
    "name": "ipython",
    "version": 3
   },
   "file_extension": ".py",
   "mimetype": "text/x-python",
   "name": "python",
   "nbconvert_exporter": "python",
   "pygments_lexer": "ipython3",
   "version": "3.6.6"
  }
 },
 "nbformat": 4,
 "nbformat_minor": 2
}
