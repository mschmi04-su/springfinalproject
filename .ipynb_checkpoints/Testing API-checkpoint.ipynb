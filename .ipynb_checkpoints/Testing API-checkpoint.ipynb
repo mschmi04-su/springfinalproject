{
 "cells": [
  {
   "cell_type": "code",
   "execution_count": 2,
   "metadata": {},
   "outputs": [],
   "source": [
    "#Imports\n",
    "import requests\n",
    "import json\n",
    "import pandas as pd\n",
    "import pybomb as pb\n",
    "import pybomb.clients.base_client as baseclient\n",
    "import pybomb.clients.games_client as gamesclient\n",
    "import pybomb.clients.game_client as gc\n",
    "import numpy as np"
   ]
  },
  {
   "cell_type": "markdown",
   "metadata": {},
   "source": []
  },
  {
   "cell_type": "code",
   "execution_count": 8,
   "metadata": {},
   "outputs": [
    {
     "name": "stdout",
     "output_type": "stream",
     "text": [
      "['Titanfall', 'Halo 5: Guardians']\n",
      "[42860, 42905]\n"
     ]
    }
   ],
   "source": [
    "key = '64ce54b0ab6eb483b1964ae7979124f96aa791e5' ##Make this an input or encrypt it\n",
    "game_client = pb.GameClient(key, default_format = 'json')\n",
    "game_id = 48754\n",
    "\n",
    "response = game_client.fetch(game_id)\n",
    "name_list = []\n",
    "id_list= []\n",
    "for i in response.results['similar_games']:\n",
    "    name_list.append(i['name'])\n",
    "    id_list.append(i['id'])\n",
    "print(name_list)\n",
    "print(id_list)"
   ]
  },
  {
   "cell_type": "code",
   "execution_count": 9,
   "metadata": {},
   "outputs": [
    {
     "name": "stdout",
     "output_type": "stream",
     "text": [
      "First-Person Shooter\n",
      "['Titanfall', 'Halo 5: Guardians']\n",
      "[42860, 42905]\n"
     ]
    }
   ],
   "source": [
    "def GetGenre(game_id):\n",
    "    key = '64ce54b0ab6eb483b1964ae7979124f96aa791e5' ##Make this an input or encrypt it\n",
    "    game_client = pb.GameClient(key, default_format = 'json')\n",
    "    response = game_client.fetch(game_id)\n",
    "    print(response.results['genres'][0]['name'])\n",
    "\n",
    "def GetSimilarGames(game_id):\n",
    "    key = '64ce54b0ab6eb483b1964ae7979124f96aa791e5'\n",
    "    game_client = pb.GameClient(key, default_format = 'json')\n",
    "    response = game_client.fetch(game_id)\n",
    "    name_list = []\n",
    "    id_list= []\n",
    "    for i in response.results['similar_games']:\n",
    "        name_list.append(i['name'])\n",
    "        id_list.append(i['id'])\n",
    "    print(name_list)\n",
    "    print(id_list)\n",
    "        \n",
    "game_id= 48754\n",
    "GetGenre(game_id)\n",
    "GetSimilarGames(game_id)"
   ]
  },
  {
   "cell_type": "code",
   "execution_count": null,
   "metadata": {},
   "outputs": [],
   "source": []
  }
 ],
 "metadata": {
  "kernelspec": {
   "display_name": "Python 3",
   "language": "python",
   "name": "python3"
  },
  "language_info": {
   "codemirror_mode": {
    "name": "ipython",
    "version": 3
   },
   "file_extension": ".py",
   "mimetype": "text/x-python",
   "name": "python",
   "nbconvert_exporter": "python",
   "pygments_lexer": "ipython3",
   "version": "3.6.6"
  }
 },
 "nbformat": 4,
 "nbformat_minor": 2
}
