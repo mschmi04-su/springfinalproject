{
 "cells": [
  {
   "cell_type": "code",
   "execution_count": 2,
   "metadata": {},
   "outputs": [],
   "source": [
    "#Imports\n",
    "import requests\n",
    "import json\n",
    "import pandas as pd\n",
    "import pybomb as pb\n",
    "import pybomb.clients.base_client as baseclient\n",
    "import pybomb.clients.games_client as gamesclient\n",
    "import pybomb.clients.game_client as gc\n",
    "import numpy as np"
   ]
  },
  {
   "cell_type": "markdown",
   "metadata": {},
   "source": []
  },
  {
   "cell_type": "code",
   "execution_count": 5,
   "metadata": {},
   "outputs": [
    {
     "ename": "TypeError",
     "evalue": "'NoneType' object is not iterable",
     "output_type": "error",
     "traceback": [
      "\u001b[1;31m---------------------------------------------------------------------------\u001b[0m",
      "\u001b[1;31mTypeError\u001b[0m                                 Traceback (most recent call last)",
      "\u001b[1;32m<ipython-input-5-98880d3dbea4>\u001b[0m in \u001b[0;36m<module>\u001b[1;34m\u001b[0m\n\u001b[0;32m      6\u001b[0m \u001b[0mname_list\u001b[0m \u001b[1;33m=\u001b[0m \u001b[1;33m[\u001b[0m\u001b[1;33m]\u001b[0m\u001b[1;33m\u001b[0m\u001b[0m\n\u001b[0;32m      7\u001b[0m \u001b[0mid_list\u001b[0m\u001b[1;33m=\u001b[0m \u001b[1;33m[\u001b[0m\u001b[1;33m]\u001b[0m\u001b[1;33m\u001b[0m\u001b[0m\n\u001b[1;32m----> 8\u001b[1;33m \u001b[1;32mfor\u001b[0m \u001b[0mi\u001b[0m \u001b[1;32min\u001b[0m \u001b[0mresponse\u001b[0m\u001b[1;33m.\u001b[0m\u001b[0mresults\u001b[0m\u001b[1;33m[\u001b[0m\u001b[1;34m'similar_games'\u001b[0m\u001b[1;33m]\u001b[0m\u001b[1;33m:\u001b[0m\u001b[1;33m\u001b[0m\u001b[0m\n\u001b[0m\u001b[0;32m      9\u001b[0m     \u001b[0mname_list\u001b[0m\u001b[1;33m.\u001b[0m\u001b[0mappend\u001b[0m\u001b[1;33m(\u001b[0m\u001b[0mi\u001b[0m\u001b[1;33m[\u001b[0m\u001b[1;34m'name'\u001b[0m\u001b[1;33m]\u001b[0m\u001b[1;33m)\u001b[0m\u001b[1;33m\u001b[0m\u001b[0m\n\u001b[0;32m     10\u001b[0m     \u001b[0mid_list\u001b[0m\u001b[1;33m.\u001b[0m\u001b[0mappend\u001b[0m\u001b[1;33m(\u001b[0m\u001b[0mi\u001b[0m\u001b[1;33m[\u001b[0m\u001b[1;34m'id'\u001b[0m\u001b[1;33m]\u001b[0m\u001b[1;33m)\u001b[0m\u001b[1;33m\u001b[0m\u001b[0m\n",
      "\u001b[1;31mTypeError\u001b[0m: 'NoneType' object is not iterable"
     ]
    }
   ],
   "source": [
    "key = '64ce54b0ab6eb483b1964ae7979124f96aa791e5' ##Make this an input or encrypt it\n",
    "game_client = pb.GameClient(key, default_format = 'json')\n",
    "game_id = 30178\n",
    "\n",
    "response = game_client.fetch(game_id)\n",
    "name_list = []\n",
    "id_list= []\n",
    "for i in response.results['similar_games']:\n",
    "    name_list.append(i['name'])\n",
    "    id_list.append(i['id'])\n",
    "print(response.results['similar_games'])\n",
    "#print(id_list)"
   ]
  },
  {
   "cell_type": "code",
   "execution_count": 9,
   "metadata": {},
   "outputs": [
    {
     "name": "stdout",
     "output_type": "stream",
     "text": [
      "First-Person Shooter\n",
      "['Titanfall', 'Halo 5: Guardians']\n",
      "[42860, 42905]\n"
     ]
    }
   ],
   "source": [
    "def GetGenre(game_id):\n",
    "    key = '64ce54b0ab6eb483b1964ae7979124f96aa791e5' ##Make this an input or encrypt it\n",
    "    game_client = pb.GameClient(key, default_format = 'json')\n",
    "    response = game_client.fetch(game_id)\n",
    "    print(response.results['genres'][0]['name'])\n",
    "\n",
    "def GetSimilarGames(game_id):\n",
    "    key = '64ce54b0ab6eb483b1964ae7979124f96aa791e5'\n",
    "    game_client = pb.GameClient(key, default_format = 'json')\n",
    "    response = game_client.fetch(game_id)\n",
    "    name_list = []\n",
    "    id_list= []\n",
    "    for i in response.results['similar_games']:\n",
    "        name_list.append(i['name'])\n",
    "        id_list.append(i['id'])\n",
    "    print(name_list)\n",
    "    print(id_list)\n",
    "        \n",
    "game_id= 48754\n",
    "GetGenre(game_id)\n",
    "GetSimilarGames(game_id)"
   ]
  },
  {
   "cell_type": "code",
   "execution_count": null,
   "metadata": {},
   "outputs": [],
   "source": []
  }
 ],
 "metadata": {
  "kernelspec": {
   "display_name": "Python 3",
   "language": "python",
   "name": "python3"
  },
  "language_info": {
   "codemirror_mode": {
    "name": "ipython",
    "version": 3
   },
   "file_extension": ".py",
   "mimetype": "text/x-python",
   "name": "python",
   "nbconvert_exporter": "python",
   "pygments_lexer": "ipython3",
   "version": "3.6.6"
  }
 },
 "nbformat": 4,
 "nbformat_minor": 2
}
